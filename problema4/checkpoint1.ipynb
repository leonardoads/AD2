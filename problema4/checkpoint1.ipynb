{
 "cells": [
  {
   "cell_type": "code",
   "execution_count": 22,
   "metadata": {
    "collapsed": true,
    "slideshow": {
     "slide_type": "notes"
    }
   },
   "outputs": [],
   "source": [
    "import numpy as np\n",
    "import pandas as pd\n",
    "import json"
   ]
  },
  {
   "cell_type": "markdown",
   "metadata": {},
   "source": [
    "# Introdução"
   ]
  },
  {
   "cell_type": "markdown",
   "metadata": {},
   "source": [
    "Nosso objetivo é prever a duração da viagem de ônibus a partir da localização dos veiculos. Será considerado como ponto inicial da rota o primeiro registro de localização de cada rota.\n",
    "\n",
    "Nosso dataset é composto pelas seguintes informações:\n",
    "\n",
    "*  VEIC - identificador do veículo\n",
    "*  LAT - coordenada latitude\n",
    "*  LON - coordenada longitude\n",
    "*  DTHR - data e hora da localização\n",
    "*  COD_LINHA - Código da linha de ônibus\n",
    "\n"
   ]
  },
  {
   "cell_type": "code",
   "execution_count": 14,
   "metadata": {
    "collapsed": false
   },
   "outputs": [],
   "source": [
    "text_file = sc.textFile(\"data/dados_problema.txt\")"
   ]
  },
  {
   "cell_type": "code",
   "execution_count": 26,
   "metadata": {
    "collapsed": false,
    "scrolled": false
   },
   "outputs": [],
   "source": [
    "raw_data = text_file.map(lambda row: json.loads(row))\n",
    "raw_data = raw_data.map(lambda row: (row[\"DATAUTILIZACAO\"], row[\"CODVEICULO\"], row[\"CODLINHA\"]))"
   ]
  },
  {
   "cell_type": "code",
   "execution_count": 27,
   "metadata": {
    "collapsed": false
   },
   "outputs": [
    {
     "data": {
      "text/plain": [
       "[('20/10/15 17:35:27,000000', '00181', 'ARA'),\n",
       " ('20/10/15 18:25:34,000000', '00994', 'ARA'),\n",
       " ('20/10/15 09:49:50,000000', '00232', 'ARA'),\n",
       " ('20/10/15 13:07:02,000000', '00232', 'ARA'),\n",
       " ('20/10/15 09:55:50,000000', '00998', 'ARA')]"
      ]
     },
     "execution_count": 27,
     "metadata": {},
     "output_type": "execute_result"
    }
   ],
   "source": [
    "raw_data.take(5)"
   ]
  }
 ],
 "metadata": {
  "kernelspec": {
   "display_name": "Python 3",
   "language": "python",
   "name": "python3"
  },
  "language_info": {
   "codemirror_mode": {
    "name": "ipython",
    "version": 3
   },
   "file_extension": ".py",
   "mimetype": "text/x-python",
   "name": "python",
   "nbconvert_exporter": "python",
   "pygments_lexer": "ipython3",
   "version": "3.5.1"
  }
 },
 "nbformat": 4,
 "nbformat_minor": 0
}

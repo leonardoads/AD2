{
 "cells": [
  {
   "cell_type": "markdown",
   "metadata": {},
   "source": [
    "# Preparação dos dados\n",
    "Importando as bibliotecas que serão usadas nesse exemplo."
   ]
  },
  {
   "cell_type": "code",
   "execution_count": 348,
   "metadata": {
    "collapsed": true
   },
   "outputs": [],
   "source": [
    "import numpy as np\n",
    "from pyspark.mllib.regression import LabeledPoint\n",
    "from pyspark.mllib.regression import LinearRegressionWithSGD\n",
    "from pyspark.mllib.evaluation import RegressionMetrics"
   ]
  },
  {
   "cell_type": "markdown",
   "metadata": {},
   "source": [
    "Caminho para os dados do exemplo."
   ]
  },
  {
   "cell_type": "code",
   "execution_count": 317,
   "metadata": {
    "collapsed": true
   },
   "outputs": [],
   "source": [
    "path = \"/Users/leandro/Dropbox/Backup/Cursos/DM/AD2-2015.2/data/TV_noheader.csv\""
   ]
  },
  {
   "cell_type": "markdown",
   "metadata": {},
   "source": [
    "Lendo os dados para ```raw_data```."
   ]
  },
  {
   "cell_type": "code",
   "execution_count": 318,
   "metadata": {
    "collapsed": true
   },
   "outputs": [],
   "source": [
    "raw_data = sc.textFile(path)"
   ]
  },
  {
   "cell_type": "markdown",
   "metadata": {},
   "source": [
    "Separando os atributos por vírgula."
   ]
  },
  {
   "cell_type": "code",
   "execution_count": 347,
   "metadata": {
    "collapsed": false
   },
   "outputs": [
    {
     "data": {
      "text/plain": [
       "[[u'230.1', u'22.1'],\n",
       " [u'44.5', u'10.4'],\n",
       " [u'17.2', u'9.3'],\n",
       " [u'151.5', u'18.5'],\n",
       " [u'180.8', u'12.9']]"
      ]
     },
     "execution_count": 347,
     "metadata": {},
     "output_type": "execute_result"
    }
   ],
   "source": [
    "records = raw_data.map(lambda x: x.split(\",\"))\n",
    "records.take(5)"
   ]
  },
  {
   "cell_type": "markdown",
   "metadata": {},
   "source": [
    "Transformando os dados no formato LabeledPoint do Spark MLLib."
   ]
  },
  {
   "cell_type": "code",
   "execution_count": 316,
   "metadata": {
    "collapsed": false
   },
   "outputs": [],
   "source": [
    "def parsePoint(record):\n",
    "    values = [float(x) for x in record]\n",
    "    return LabeledPoint(values[1],np.atleast_1d(values[0]))"
   ]
  },
  {
   "cell_type": "code",
   "execution_count": 320,
   "metadata": {
    "collapsed": false
   },
   "outputs": [
    {
     "data": {
      "text/plain": [
       "[LabeledPoint(22.1, [230.1]),\n",
       " LabeledPoint(10.4, [44.5]),\n",
       " LabeledPoint(9.3, [17.2]),\n",
       " LabeledPoint(18.5, [151.5]),\n",
       " LabeledPoint(12.9, [180.8])]"
      ]
     },
     "execution_count": 320,
     "metadata": {},
     "output_type": "execute_result"
    }
   ],
   "source": [
    "parsed_data = records.map(parsePoint)\n",
    "parsed_data.take(5)"
   ]
  },
  {
   "cell_type": "markdown",
   "metadata": {},
   "source": [
    "# Treinando e avaliando o modelo.\n",
    "Abaixo treinamos um modelo de regressão linear usando os parâmetros indicados. Em seguida, atribuímos a variável ```valuesAndPreds``` pares (valore previso,valor real).\n"
   ]
  },
  {
   "cell_type": "code",
   "execution_count": 321,
   "metadata": {
    "collapsed": false
   },
   "outputs": [],
   "source": [
    "linear_model = LinearRegressionWithSGD.train(parsed_data,iterations=50,\n",
    "step=0.01,intercept=True)\n",
    "valuesAndPreds=parsed_data.map(lambda p: (float(linear_model.predict(p.features)),p.label))"
   ]
  },
  {
   "cell_type": "markdown",
   "metadata": {},
   "source": [
    "O objeto ```metrics``` abaixo permite chamar várias funções de avaliação para o modelo de regressão."
   ]
  },
  {
   "cell_type": "code",
   "execution_count": 322,
   "metadata": {
    "collapsed": false
   },
   "outputs": [],
   "source": [
    "metrics = RegressionMetrics(valuesAndPreds)"
   ]
  },
  {
   "cell_type": "code",
   "execution_count": 323,
   "metadata": {
    "collapsed": false
   },
   "outputs": [
    {
     "name": "stdout",
     "output_type": "stream",
     "text": [
      "MSE = 1.64212205661e+183\n",
      "RMSE = 4.05231052192e+91\n",
      "R-squared = -6.06268032278e+181\n",
      "MAE = 3.50173413823e+91\n"
     ]
    }
   ],
   "source": [
    "print(\"MSE = %s\" % metrics.meanSquaredError)\n",
    "print(\"RMSE = %s\" % metrics.rootMeanSquaredError)\n",
    "\n",
    "# R-squared\n",
    "print(\"R-squared = %s\" % metrics.r2)\n",
    "\n",
    "# Mean absolute error\n",
    "print(\"MAE = %s\" % metrics.meanAbsoluteError)"
   ]
  },
  {
   "cell_type": "markdown",
   "metadata": {},
   "source": [
    "# Partição treino/teste"
   ]
  },
  {
   "cell_type": "code",
   "execution_count": 324,
   "metadata": {
    "collapsed": true
   },
   "outputs": [],
   "source": [
    "data_with_idx = parsed_data.zipWithIndex().map(lambda (k, v): (v, k))\n",
    "test = data_with_idx.sample(False, 0.2, 42)\n",
    "train = data_with_idx.subtractByKey(test)"
   ]
  },
  {
   "cell_type": "markdown",
   "metadata": {},
   "source": [
    "Agora retiramos os índices e recuperamos somente as instâncias de cada partição."
   ]
  },
  {
   "cell_type": "code",
   "execution_count": 325,
   "metadata": {
    "collapsed": false
   },
   "outputs": [
    {
     "name": "stdout",
     "output_type": "stream",
     "text": [
      "Tamanho dos dados de treino: 160\n",
      "Tamanho dos dados de teste: 40\n",
      "Tamanho total: 200 \n",
      "Tamanho treino + tamanho teste : 200\n"
     ]
    }
   ],
   "source": [
    "train_data = train.map(lambda (idx, p): p)\n",
    "test_data = test.map(lambda (idx, p) : p)\n",
    "train_size = train_data.count()\n",
    "test_size = test_data.count()\n",
    "print \"Tamanho dos dados de treino: %d\" % train_size\n",
    "print \"Tamanho dos dados de teste: %d\" % test_size\n",
    "print \"Tamanho total: %d \" % num_data\n",
    "print \"Tamanho treino + tamanho teste : %d\" % (train_size + test_size)"
   ]
  },
  {
   "cell_type": "markdown",
   "metadata": {},
   "source": [
    "Função para treinar um modelo nos dados de treino, avaliar no teste e retornar uma métrica de avaliação."
   ]
  },
  {
   "cell_type": "code",
   "execution_count": 331,
   "metadata": {
    "collapsed": true
   },
   "outputs": [],
   "source": [
    "def evaluate(train, test, iterations, step, regParam, regType,intercept):\n",
    "    model = LinearRegressionWithSGD.train(train, iterations, step,\n",
    "    regParam=regParam, regType=regType, intercept=intercept)\n",
    "    tp = test.map(lambda p: (float(model.predict(p.features)),p.label))\n",
    "    result = RegressionMetrics(tp)\n",
    "    rmse = result.rootMeanSquaredError\n",
    "    return rmse"
   ]
  },
  {
   "cell_type": "markdown",
   "metadata": {},
   "source": [
    "# Variando o número de iterações"
   ]
  },
  {
   "cell_type": "code",
   "execution_count": 333,
   "metadata": {
    "collapsed": false
   },
   "outputs": [
    {
     "name": "stdout",
     "output_type": "stream",
     "text": [
      "[1, 5, 10, 20, 50, 100]\n",
      "[3647.2385290766065, 2610754821711.72, 3.4454392953529866e+22, 2.135136480015719e+41, 2.03633706153293e+92, inf]\n"
     ]
    }
   ],
   "source": [
    "params = [1,5,10,20,50,100]\n",
    "results = [evaluate(train_data, test_data, param, .01, 0.0, 'l2',True) for param in params]\n",
    "print params\n",
    "print results"
   ]
  },
  {
   "cell_type": "code",
   "execution_count": 335,
   "metadata": {
    "collapsed": false
   },
   "outputs": [
    {
     "name": "stdout",
     "output_type": "stream",
     "text": [
      "Populating the interactive namespace from numpy and matplotlib\n"
     ]
    },
    {
     "data": {
      "image/png": "[encoded data removed]",
      "text/plain": [
       "<matplotlib.figure.Figure at 0x10e2815d0>"
      ]
     },
     "metadata": {},
     "output_type": "display_data"
    }
   ],
   "source": [
    "%pylab inline\n",
    "plot(params, results)\n",
    "fig = matplotlib.pyplot.gcf()\n",
    "pyplot.xscale('log')"
   ]
  },
  {
   "cell_type": "markdown",
   "metadata": {},
   "source": [
    "# Variando o step size do SGD"
   ]
  },
  {
   "cell_type": "code",
   "execution_count": 339,
   "metadata": {
    "collapsed": false
   },
   "outputs": [
    {
     "name": "stdout",
     "output_type": "stream",
     "text": [
      "[1e-05, 0.0001, 0.001, 0.01, 0.025, 0.05, 0.1, 1.0]\n",
      "[5.202386143732566, 4.226335186266995, 1697904610642.6682, 3.4454392953529866e+22, 3.438046729039842e+26, 3.573928929958777e+29, 3.687304009689063e+32, 3.7123031397359215e+42]\n"
     ]
    }
   ],
   "source": [
    "params = [0.00001,0.0001,0.001,0.01, 0.025, 0.05, 0.1, 1.0]\n",
    "results = [evaluate(train_data, test_data, 10, param, 0.0, 'l2',\n",
    "True) for param in params]\n",
    "print params\n",
    "print results"
   ]
  },
  {
   "cell_type": "code",
   "execution_count": 340,
   "metadata": {
    "collapsed": false
   },
   "outputs": [
    {
     "data": {
      "image/png": "[encoded data removed]",
      "text/plain": [
       "<matplotlib.figure.Figure at 0x10e34da50>"
      ]
     },
     "metadata": {},
     "output_type": "display_data"
    }
   ],
   "source": [
    "plot(params, results)\n",
    "fig = matplotlib.pyplot.gcf()\n",
    "pyplot.xscale('log')"
   ]
  },
  {
   "cell_type": "markdown",
   "metadata": {},
   "source": [
    "# Variando o parâmetro de regularização do LASSO"
   ]
  },
  {
   "cell_type": "code",
   "execution_count": 346,
   "metadata": {
    "collapsed": false
   },
   "outputs": [
    {
     "name": "stdout",
     "output_type": "stream",
     "text": [
      "[0.0, 0.01, 0.1, 1.0, 10.0, 100.0]\n",
      "[4.226335186266995, 4.226346810002347, 4.226451452577864, 4.227500744320124, 4.238279463175514, 4.374316498789672]\n"
     ]
    },
    {
     "data": {
      "image/png": "[encoded data removed]",
      "text/plain": [
       "<matplotlib.figure.Figure at 0x10e8a4890>"
      ]
     },
     "metadata": {},
     "output_type": "display_data"
    }
   ],
   "source": [
    "params = [0.0, 0.01, 0.1, 1.0, 10.0, 100.0]\n",
    "results = [evaluate(train_data, test_data, 10, 0.0001, param, 'l1',\n",
    "True) for param in params]\n",
    "print params\n",
    "print results\n",
    "plot(params, results)\n",
    "fig = matplotlib.pyplot.gcf()\n",
    "pyplot.xscale('log')"
   ]
  },
  {
   "cell_type": "code",
   "execution_count": null,
   "metadata": {
    "collapsed": true
   },
   "outputs": [],
   "source": []
  }
 ],
 "metadata": {
  "kernelspec": {
   "display_name": "Python 3",
   "language": "python",
   "name": "python3"
  },
  "language_info": {
   "codemirror_mode": {
    "name": "ipython",
    "version": 3
   },
   "file_extension": ".py",
   "mimetype": "text/x-python",
   "name": "python",
   "nbconvert_exporter": "python",
   "pygments_lexer": "ipython3",
   "version": "3.5.1"
  }
 },
 "nbformat": 4,
 "nbformat_minor": 0
}
